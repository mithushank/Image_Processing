#intensity windowing 
%matplotlib inline
import cv2 as cv
import matplotlib.pyplot as plt
import numpy as np

T1= np.linspace(0,49,50).astype('uint8')
T2= np.linspace(150,255,106).astype('uint8')
T3= np.linspace(100,255,156).astype('uint8')


transform = np.concatenate((T1,T3),axis=0).astype("uint8")
transform = np.concatenate((transform,T2),axis=0).astype("uint8")

print(transform)

fig, ax = plt.subplots()
ax.plot(transform)
ax.set_xlim(0,300)
ax.set_ylim(0,300)
plt.show()

im_o=cv.imread("images/emma.jpg", cv.IMREAD_GRAYSCALE)
cv.namedWindow("image", cv.WINDOW_AUTOSIZE)
cv.imshow("image_original", im_o)
cv.waitKey(0)
cv.destroyAllWindows()

im_t = cv.LUT(im_o, transform)
cv.imshow("image", im_t)
cv.waitKey(0)
cv.destroyAllWindows()
