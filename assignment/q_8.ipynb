{
 "cells": [
  {
   "cell_type": "code",
   "execution_count": 6,
   "metadata": {},
   "outputs": [],
   "source": [
    "# %matplotlib inline\n",
    "# import cv2 as cv\n",
    "# import matplotlib.pyplot as plt\n",
    "# import numpy as np\n",
    "# from PIL import Image\n",
    "\n",
    "# def zoom_image_by_factor(image_path, zoom_factor):\n",
    "#     original_image = Image.open(image_path)\n",
    "#     width_original, height_original = original_image.size\n",
    "#     new_width = width_original * zoom_factor\n",
    "#     new_height = height_original * zoom_factor\n",
    "#     zoomed_image = Image.new(\"RGB\", (new_width, new_height))\n",
    "\n",
    "#     for y in range(new_height):\n",
    "#         for x in range(new_width):\n",
    "#             original_x = x // zoom_factor\n",
    "#             original_y = y // zoom_factor\n",
    "#             pixel = original_image.getpixel((original_x, original_y))\n",
    "#             zoomed_image.putpixel((x, y), pixel)\n",
    "\n",
    "#     return zoomed_image\n",
    "\n",
    "# # Replace 'input_image.jpg' with your image's filename\n",
    "# zoom_factor = 4\n",
    "# zoomed_image = zoom_image_by_factor(\"images/zooming/im01small.png\", zoom_factor)\n",
    "# zoomed_image.save(\"zoomed_image.jpg\")\n",
    "# # plt.subplot(221)\n",
    "# # plt.imshow(cv.imread(\"images/zooming/im01small.png\"))\n",
    "# # plt.plot(220)\n",
    "# plt.imshow(zoomed_image)\n"
   ]
  },
  {
   "cell_type": "code",
   "execution_count": null,
   "metadata": {},
   "outputs": [],
   "source": [
    "%matplotlib inline\n",
    "import cv2 as cv\n",
    "import matplotlib.pyplot as plt\n",
    "import numpy as np\n",
    "\n",
    "def z_nn(im, z=4):\n",
    "    sm =np.zeros(im.shape[0], im.shape[1],3).astype(np.uint8)\n",
    "    for i in range(im.shape[0]):\n",
    "        for j in range(im.shape[1]):\n",
    "            p = im[i][j]\n",
    "            for k in range(i*z-1,i*z+z):\n",
    "                for l in range(j*z-1,j*z+z):\n",
    "                    sm[k][l]=p\n",
    "    return sm\n",
    "img = cv.imread('images/zooming/im01small.png').astype(np.uint8)\n",
    "img_z = z_nn(img)\n",
    "f, a = im"
   ]
  }
 ],
 "metadata": {
  "kernelspec": {
   "display_name": "cv",
   "language": "python",
   "name": "python3"
  },
  "language_info": {
   "codemirror_mode": {
    "name": "ipython",
    "version": 3
   },
   "file_extension": ".py",
   "mimetype": "text/x-python",
   "name": "python",
   "nbconvert_exporter": "python",
   "pygments_lexer": "ipython3",
   "version": "3.11.4"
  },
  "orig_nbformat": 4
 },
 "nbformat": 4,
 "nbformat_minor": 2
}
